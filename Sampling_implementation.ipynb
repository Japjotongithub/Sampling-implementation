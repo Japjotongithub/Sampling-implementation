{
  "nbformat": 4,
  "nbformat_minor": 0,
  "metadata": {
    "colab": {
      "provenance": [],
      "authorship_tag": "ABX9TyOQfqF7vcBWKslXmAv8dp3k",
      "include_colab_link": true
    },
    "kernelspec": {
      "name": "python3",
      "display_name": "Python 3"
    },
    "language_info": {
      "name": "python"
    }
  },
  "cells": [
    {
      "cell_type": "markdown",
      "metadata": {
        "id": "view-in-github",
        "colab_type": "text"
      },
      "source": [
        "<a href=\"https://colab.research.google.com/github/Japjotongithub/Sampling-implementation/blob/main/Sampling_implementation.ipynb\" target=\"_parent\"><img src=\"https://colab.research.google.com/assets/colab-badge.svg\" alt=\"Open In Colab\"/></a>"
      ]
    },
    {
      "cell_type": "markdown",
      "source": [
        "Simple Random Sampling"
      ],
      "metadata": {
        "id": "TGMN9-tn2aYd"
      }
    },
    {
      "cell_type": "code",
      "source": [
        "import random\n",
        "population=[1,2,3,4,56,6,8,90,80,70]\n",
        "random_sample=random.sample(population,5)\n",
        "print(\"Simple random sample:\",random_sample)"
      ],
      "metadata": {
        "colab": {
          "base_uri": "https://localhost:8080/"
        },
        "id": "KgrQTW2T2gQF",
        "outputId": "7ec62782-b1c9-4dba-ee95-6f63d6929478"
      },
      "execution_count": 1,
      "outputs": [
        {
          "output_type": "stream",
          "name": "stdout",
          "text": [
            "Simple random sample: [90, 80, 6, 70, 8]\n"
          ]
        }
      ]
    },
    {
      "cell_type": "markdown",
      "source": [
        "Systematic Sampling"
      ],
      "metadata": {
        "id": "UjI2EUnO3bsq"
      }
    },
    {
      "cell_type": "code",
      "source": [
        "population=[1,2,3,4,5,45,46,12,22,23,34,57,77]\n",
        "k=4\n",
        "start_index=random.randint(0,k-1)\n",
        "#Perform systematic sampling\n",
        "systematic_sample=population[start_index::k]\n",
        "print(\"Systematic Sample:\",systematic_sample)"
      ],
      "metadata": {
        "colab": {
          "base_uri": "https://localhost:8080/"
        },
        "id": "W-MMWn7y3fZb",
        "outputId": "4bb36c24-0e29-4813-8443-53e4b2ebbcac"
      },
      "execution_count": 3,
      "outputs": [
        {
          "output_type": "stream",
          "name": "stdout",
          "text": [
            "Systematic Sample: [4, 12, 57]\n"
          ]
        }
      ]
    },
    {
      "cell_type": "markdown",
      "source": [
        "Stratified Sampling"
      ],
      "metadata": {
        "id": "jo7DVkR54mW3"
      }
    },
    {
      "cell_type": "code",
      "source": [
        "from sklearn.model_selection import train_test_split\n",
        "X=[[1,2],[3,4],[3,5],[4,6],[7,8]]\n",
        "y=[0,1,0,0,1]\n",
        "X_train,X_test,y_train,y_test=train_test_split(X,y,test_size=0.4,random_state=42,stratify=y)\n",
        "print(\"Stratified Sampling-Train set:\",X_train,y_train)\n",
        "print(\"Stratified Sampling-Test set:\",X_test,y_test)"
      ],
      "metadata": {
        "colab": {
          "base_uri": "https://localhost:8080/"
        },
        "id": "RfmXjXaX4ozT",
        "outputId": "0b5dcb10-6598-447c-ec66-ef131aa6bddf"
      },
      "execution_count": 6,
      "outputs": [
        {
          "output_type": "stream",
          "name": "stdout",
          "text": [
            "Stratified Sampling-Train set: [[3, 5], [1, 2], [7, 8]] [0, 0, 1]\n",
            "Stratified Sampling-Test set: [[4, 6], [3, 4]] [0, 1]\n"
          ]
        }
      ]
    },
    {
      "cell_type": "markdown",
      "source": [
        "Cluster Sampling"
      ],
      "metadata": {
        "id": "r5k03sg87G8_"
      }
    },
    {
      "cell_type": "code",
      "source": [
        "import random\n",
        "clusters={\n",
        "    'Cluster 1':[1,2,3,4,5],\n",
        "    'CLuster 2':[6,7,8,9,10],\n",
        "    'Cluster 3':[11,12,13,14,15]\n",
        "}\n",
        "sampled_clusters =random.sample(list(clusters.keys()),2)\n",
        "cluster_sample=[]\n",
        "for cluster in sampled_clusters:\n",
        "    cluster_sample.extend(clusters[cluster])\n",
        "print(\"Cluster Sample:\",cluster_sample)"
      ],
      "metadata": {
        "colab": {
          "base_uri": "https://localhost:8080/"
        },
        "id": "vuKr9S-w7I-J",
        "outputId": "f8b3479e-821f-4aed-d596-b778dcb7e60f"
      },
      "execution_count": 7,
      "outputs": [
        {
          "output_type": "stream",
          "name": "stdout",
          "text": [
            "Cluster Sample: [6, 7, 8, 9, 10, 1, 2, 3, 4, 5]\n"
          ]
        }
      ]
    },
    {
      "cell_type": "markdown",
      "source": [
        "Purposive Sampling"
      ],
      "metadata": {
        "id": "fPEwdPxT9ZYS"
      }
    },
    {
      "cell_type": "code",
      "source": [
        "students=[\n",
        "    {\"Name\":\"Alice\",\"Marks\":85},\n",
        "    {\"Name\":\"Bob\",\"Marks\":99},\n",
        "    {\"Name\":\"Charles\",\"Marks\":90}\n",
        "]\n",
        "purposive_sample=[student for student in students if student[\"Marks\"]>=90]\n",
        "print(\"Purposive Sample:\",purposive_sample)"
      ],
      "metadata": {
        "colab": {
          "base_uri": "https://localhost:8080/"
        },
        "id": "mIsMPVe69b4h",
        "outputId": "f1c144da-9a7f-4605-f458-c52c26fdfb71"
      },
      "execution_count": 10,
      "outputs": [
        {
          "output_type": "stream",
          "name": "stdout",
          "text": [
            "Purposive Sample: [{'Name': 'Bob', 'Marks': 99}, {'Name': 'Charles', 'Marks': 90}]\n"
          ]
        }
      ]
    }
  ]
}